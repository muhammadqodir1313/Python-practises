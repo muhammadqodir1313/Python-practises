{
  "nbformat": 4,
  "nbformat_minor": 0,
  "metadata": {
    "colab": {
      "provenance": [],
      "authorship_tag": "ABX9TyMNlwQF2oLE2b4hRuuOc9Kq",
      "include_colab_link": true
    },
    "kernelspec": {
      "name": "python3",
      "display_name": "Python 3"
    },
    "language_info": {
      "name": "python"
    }
  },
  "cells": [
    {
      "cell_type": "markdown",
      "metadata": {
        "id": "view-in-github",
        "colab_type": "text"
      },
      "source": [
        "<a href=\"https://colab.research.google.com/github/muhammadqodir1313/Python-practises/blob/main/python_practice.ipynb\" target=\"_parent\"><img src=\"https://colab.research.google.com/assets/colab-badge.svg\" alt=\"Open In Colab\"/></a>"
      ]
    },
    {
      "cell_type": "code",
      "execution_count": null,
      "metadata": {
        "colab": {
          "base_uri": "https://localhost:8080/"
        },
        "id": "IG_OEstq8mWd",
        "outputId": "9a3c2a27-f43c-42a7-c585-a8e7a37a4531"
      },
      "outputs": [
        {
          "output_type": "stream",
          "name": "stdout",
          "text": [
            "Hello, World!\n",
            "this is my not first program in python\n"
          ]
        }
      ],
      "source": [
        "print(\"Hello, World!\")\n",
        "print(\"this is my not first program in python\")"
      ]
    },
    {
      "cell_type": "code",
      "source": [
        "print(\"Hello, I'm your personal chatbot little Kachok.\")\n",
        "name=input(\"What is your name? \")\n",
        "print(\"Nice to meet you \"+ name+ \" and How can i help you today?\")\n",
        "problem=input()\n",
        "print(\"I can help to fix your \"+problem+\", \"+name)\n"
      ],
      "metadata": {
        "colab": {
          "base_uri": "https://localhost:8080/"
        },
        "id": "RNEYdVLl-SUz",
        "outputId": "9a38efda-f8b8-40e6-9c42-e41bbc35d132"
      },
      "execution_count": null,
      "outputs": [
        {
          "output_type": "stream",
          "name": "stdout",
          "text": [
            "Hello, I'm your personal chatbot little Kachok.\n",
            "What is your name? Muhammadqodir\n",
            "Nice to meet you Muhammadqodir and How can i help you today?\n",
            "boshim ogriyapti\n",
            "I can help to fix your boshim ogriyapti, Muhammadqodir\n"
          ]
        }
      ]
    },
    {
      "cell_type": "markdown",
      "source": [
        "Write a function named print_pattern that prints a rectangle pattern of stars (*).\n",
        "\n",
        "The function should:\n",
        "\n",
        "Take two parameters: rows and cols (both integers)\n",
        "Use nested loops to print a rectangle with the given dimensions\n",
        "Each row should contain cols stars\n",
        "The pattern should have rows rows in total"
      ],
      "metadata": {
        "id": "0rIwiRvgwAqH"
      }
    },
    {
      "cell_type": "code",
      "source": [
        "def print_pattern(rows, cols):\n",
        "    # Write your code here\n",
        "    for i in range(0, rows):\n",
        "        for j in range(0, cols):\n",
        "            print(\"*\", end=\" \")\n",
        "        print()\n",
        "    pass\n",
        "\n",
        "# Get input for rows and columns\n",
        "rows = int(input())\n",
        "cols = int(input())\n",
        "\n",
        "# Call the function\n",
        "print_pattern(rows, cols)"
      ],
      "metadata": {
        "id": "u9tlPCCQ-rNx",
        "colab": {
          "base_uri": "https://localhost:8080/"
        },
        "outputId": "1dc64d31-9ef2-46b1-9d7c-a5efdf1c32f8"
      },
      "execution_count": null,
      "outputs": [
        {
          "output_type": "stream",
          "name": "stdout",
          "text": [
            "3\n",
            "4\n",
            "* * * * \n",
            "* * * * \n",
            "* * * * \n"
          ]
        }
      ]
    },
    {
      "cell_type": "markdown",
      "source": [
        "Write a program that finds all pairs of numbers that multiply to give n using numbers from 1 to n.\n",
        "The program should show all possible combinations, including duplicate pairs in reverse order. For example, both \"1 6\" and \"6 1\" should be shown, as they are considered different arrangements of the same pair. Numbers can also be paired with themselves if their product equals n."
      ],
      "metadata": {
        "id": "rLJ8iDRwwWH3"
      }
    },
    {
      "cell_type": "code",
      "source": [
        "n = int(input())\n",
        "# Write your code below\n",
        "for i in range(1, n+1):\n",
        "    for j in range(1, n+1):\n",
        "        if i*j==n:\n",
        "            print(i, j)"
      ],
      "metadata": {
        "colab": {
          "base_uri": "https://localhost:8080/"
        },
        "id": "TIorXEg0wdTC",
        "outputId": "617f7dff-ce2f-4b89-f150-58cb71017fc3"
      },
      "execution_count": null,
      "outputs": [
        {
          "output_type": "stream",
          "name": "stdout",
          "text": [
            "12\n",
            "1 12\n",
            "2 6\n",
            "3 4\n",
            "4 3\n",
            "6 2\n",
            "12 1\n"
          ]
        }
      ]
    },
    {
      "cell_type": "markdown",
      "source": [
        "Write a program that gets a dynamic number of input values.\n",
        "\n",
        "The first input is a number that represents the number of the input values following it. The next input values are whole numbers.\n",
        "\n",
        "In the end, print the sum of all the input numbers (not including the first input)."
      ],
      "metadata": {
        "id": "taMXVZqGwyoe"
      }
    },
    {
      "cell_type": "code",
      "source": [
        "n=int(input())\n",
        "sum=0\n",
        "for i in range(n):\n",
        "    a=int(input())\n",
        "    sum+=a\n",
        "print(sum)"
      ],
      "metadata": {
        "colab": {
          "base_uri": "https://localhost:8080/"
        },
        "id": "eqRxAxeRw2Me",
        "outputId": "0075f202-828d-4536-bf37-acd60c66130e"
      },
      "execution_count": null,
      "outputs": [
        {
          "output_type": "stream",
          "name": "stdout",
          "text": [
            "3\n",
            "5\n",
            "1\n",
            "6\n",
            "12\n"
          ]
        }
      ]
    },
    {
      "cell_type": "markdown",
      "source": [
        "Write a program that gets one input, a number. The input number indicates how many times to execute the below function.\n",
        "\n",
        "Create a function that calculates the sum of all of the numbers between 1 and 10000 (including) and prints it, name the function however you like.\n",
        "\n"
      ],
      "metadata": {
        "id": "r9XX31bWzFIC"
      }
    },
    {
      "cell_type": "code",
      "source": [
        "def sum():\n",
        "    s=0\n",
        "    for i in range(1, 10001):\n",
        "        s+=i\n",
        "    print(s)\n",
        "\n",
        "n=int(input())\n",
        "for i in range(n):\n",
        "    sum()"
      ],
      "metadata": {
        "colab": {
          "base_uri": "https://localhost:8080/"
        },
        "id": "m2Q1k_1hzEvK",
        "outputId": "6f875f71-f785-4a5a-b6de-f5a4f0a8643d"
      },
      "execution_count": null,
      "outputs": [
        {
          "output_type": "stream",
          "name": "stdout",
          "text": [
            "5\n",
            "50005000\n",
            "50005000\n",
            "50005000\n",
            "50005000\n",
            "50005000\n"
          ]
        }
      ]
    },
    {
      "cell_type": "code",
      "source": [
        "a, b=map(int, input().split())\n",
        "if a>b:\n",
        "  print('>')\n",
        "elif a<b:\n",
        "   print('<')\n",
        "else:\n",
        "\tprint('=')"
      ],
      "metadata": {
        "id": "IDWEOSD519b3",
        "outputId": "8bce2297-76f1-4157-f0cc-46d8d19e1f3a",
        "colab": {
          "base_uri": "https://localhost:8080/"
        }
      },
      "execution_count": null,
      "outputs": [
        {
          "output_type": "stream",
          "name": "stdout",
          "text": [
            "3 5\n",
            "<\n"
          ]
        }
      ]
    },
    {
      "cell_type": "markdown",
      "source": [
        "Write a program that receives a number n as input() and executes the function hello_function() n times"
      ],
      "metadata": {
        "id": "4ubJrV1q194a"
      }
    },
    {
      "cell_type": "code",
      "source": [
        "def hello_function():\n",
        "    print(\"Hello Function!\")\n",
        "\n",
        "n = int(input())\n",
        "# Write your code below\n",
        "for i in range(n):\n",
        "    hello_function()"
      ],
      "metadata": {
        "colab": {
          "base_uri": "https://localhost:8080/"
        },
        "id": "56AvXa0S5PbN",
        "outputId": "b921fdb1-529e-448e-ceca-fb6d02c24e7c"
      },
      "execution_count": null,
      "outputs": [
        {
          "output_type": "stream",
          "name": "stdout",
          "text": [
            "5\n",
            "Hello Function!\n",
            "Hello Function!\n",
            "Hello Function!\n",
            "Hello Function!\n",
            "Hello Function!\n"
          ]
        }
      ]
    },
    {
      "cell_type": "markdown",
      "source": [
        "Write a program that takes two numbers as input. These input numbers will be used as arguments for the function described below.\n",
        "\n",
        "Create a function that gets two arguments, calculates their product, and prints the result. You can name the function as you wish.\n",
        "\n",
        "Call the function using the input numbers."
      ],
      "metadata": {
        "id": "wewlRbib6Qxb"
      }
    },
    {
      "cell_type": "code",
      "source": [
        "def pro(n1, n2):\n",
        "    print(n1*n2)\n",
        "num1=int(input())\n",
        "num2=int(input())\n",
        "pro(num1, num2)"
      ],
      "metadata": {
        "colab": {
          "base_uri": "https://localhost:8080/"
        },
        "id": "cpPfocoT6RMq",
        "outputId": "d9a84901-e2a7-4579-ac68-ff09bb3add6a"
      },
      "execution_count": null,
      "outputs": [
        {
          "output_type": "stream",
          "name": "stdout",
          "text": [
            "3\n",
            "5\n",
            "15\n"
          ]
        }
      ]
    },
    {
      "cell_type": "markdown",
      "source": [
        "Create a program that calculates the area of a rectangle. The program should take two inputs: the length and width of the rectangle.\n",
        "\n",
        "Define a function that accepts two arguments (length and width), calculates the area of the rectangle (length * width), and prints the result.\n",
        "\n",
        "After defining the function, prompt the user for the length and width inputs, and then call your function with these inputs."
      ],
      "metadata": {
        "id": "qHl4N-Bm6ikn"
      }
    },
    {
      "cell_type": "code",
      "source": [
        "def calculate_area(length, width):\n",
        "    # Write your code below\n",
        "    print(length*width)\n",
        "\n",
        "length = float(input())\n",
        "width = float(input())\n",
        "# Call the function below\n",
        "calculate_area(length, width)"
      ],
      "metadata": {
        "colab": {
          "base_uri": "https://localhost:8080/"
        },
        "id": "HudrHQsw6jyS",
        "outputId": "fcf3fa95-897d-4564-b893-f74bbfedb43c"
      },
      "execution_count": null,
      "outputs": [
        {
          "output_type": "stream",
          "name": "stdout",
          "text": [
            "3\n",
            "5\n",
            "15.0\n"
          ]
        }
      ]
    },
    {
      "cell_type": "markdown",
      "source": [
        "Create a function called square_number that takes a single parameter n and returns its square. Then, call the function with the input value and store the result in a variable called result. Finally, print the value of result."
      ],
      "metadata": {
        "id": "stj4fpwu7Vcx"
      }
    },
    {
      "cell_type": "code",
      "source": [
        "def square_number(n):\n",
        "    return n*n\n",
        "n=int(input())\n",
        "result=square_number(n)\n",
        "print(result)"
      ],
      "metadata": {
        "colab": {
          "base_uri": "https://localhost:8080/"
        },
        "id": "Fme05v7s7XJu",
        "outputId": "282c3b44-6fd5-48f8-c9d5-6bb17562f258"
      },
      "execution_count": null,
      "outputs": [
        {
          "output_type": "stream",
          "name": "stdout",
          "text": [
            "5\n",
            "25\n"
          ]
        }
      ]
    },
    {
      "cell_type": "markdown",
      "source": [
        "Create a function called cube_number that takes a single parameter n and returns its cube. Then, call the function with the input value and store the result in a variable called result. Finally, print the value of result."
      ],
      "metadata": {
        "id": "dazvlsjL7qQJ"
      }
    },
    {
      "cell_type": "code",
      "source": [
        "def cube_number(n):\n",
        "    # Write you code below\n",
        "    return n**3\n",
        "input_num = int(input())\n",
        "result =   cube_number(input_num)# call the function\n",
        "print(result)"
      ],
      "metadata": {
        "colab": {
          "base_uri": "https://localhost:8080/"
        },
        "id": "OCe-aFtT7pe1",
        "outputId": "aeb3102a-7829-4d91-dc9b-89eef8a10284"
      },
      "execution_count": null,
      "outputs": [
        {
          "output_type": "stream",
          "name": "stdout",
          "text": [
            "3\n",
            "27\n"
          ]
        }
      ]
    },
    {
      "cell_type": "markdown",
      "source": [
        "Write a function named sigma with one argument that represents a number n.\n",
        "\n",
        "The function will return the sum of all the numbers from 1 to n (including).\n",
        "\n",
        "For example, for sigma(5), the function will return 15, because 15 = 1 + 2 + 3 + 4 + 5.\n",
        "\n",
        "Important! You don't need to call the function we do that for you behind the scenes in a function type challenges."
      ],
      "metadata": {
        "id": "30yB0FM7aWqI"
      }
    },
    {
      "cell_type": "code",
      "source": [
        "def sigma(n):\n",
        "    s=0\n",
        "    for i in range(1, n+1):\n",
        "        s+=i\n",
        "    return s;\n",
        "n=int(input())\n",
        "print(sigma(n))"
      ],
      "metadata": {
        "colab": {
          "base_uri": "https://localhost:8080/"
        },
        "id": "qpVGhHlqaXPw",
        "outputId": "f0b85913-d4a0-4318-ec51-1db50435d0e7"
      },
      "execution_count": null,
      "outputs": [
        {
          "output_type": "stream",
          "name": "stdout",
          "text": [
            "5\n",
            "15\n"
          ]
        }
      ]
    },
    {
      "cell_type": "markdown",
      "source": [
        "Write a function named is_valid that gets two strings arguments, username and password.\n",
        "\n",
        "The function will return True if the username and password are valid in the system, otherwise False.\n",
        "\n",
        "Our system contains only two valid usernames - \"admin\" and \"user\".\n",
        "\n",
        "The valid password for username \"user\" is \"qweasd\".\n",
        "\n",
        "For username \"admin\" any password is valid!"
      ],
      "metadata": {
        "id": "9j6nNeojcFto"
      }
    },
    {
      "cell_type": "code",
      "source": [
        "def is_valid(username, password):\n",
        "    # Write code here\n",
        "    if username=='user' and password==\"qweasd\":\n",
        "        return 'true'\n",
        "    elif username=='admin':\n",
        "        return 'true'\n",
        "    else:\n",
        "        return 'false'\n",
        "\n",
        "username = input()\n",
        "password = input()\n",
        "print(is_valid(username, password))"
      ],
      "metadata": {
        "colab": {
          "base_uri": "https://localhost:8080/"
        },
        "id": "y-w472_zcE4x",
        "outputId": "9e249545-9803-4aa3-a160-c25843f56df5"
      },
      "execution_count": null,
      "outputs": [
        {
          "output_type": "stream",
          "name": "stdout",
          "text": [
            "fjmsmij\n",
            "1\n",
            "false\n"
          ]
        }
      ]
    },
    {
      "cell_type": "markdown",
      "source": [
        "FizzBuzz is a simple and classic programming game often used to teach basic logic and control flow. The game involves iterating through numbers from 1 up to a specified limit. For each number:\n",
        "\n",
        "If the number is divisible by 3, the program outputs \"Fizz.\"\n",
        "\n",
        "If the number is divisible by 7, it outputs \"Buzz.\"\n",
        "\n",
        "If the number is divisible by both 3 and 7, it outputs \"FizzBuzz.\"\n",
        "\n",
        "Otherwise, it simply outputs the number.\n",
        "\n",
        "This game is an excellent way to practice using loops, conditionals, and modular arithmetic.\n",
        "\n",
        "---\n",
        "Add a function named fizzbuzz that gets one number (int) as an argument, and:\n",
        "\n",
        "If the number is divisible by 3, return \"Fizz\".\n",
        "\n",
        "If the number is divisible by 7, return \"Buzz\".\n",
        "\n",
        "If the number is divisible by both 3 and 7, return \"FizzBuzz\".\n",
        "\n",
        "If none of the above conditions are met, return the number itself in a string format.\n",
        "\n",
        "After the function:\n",
        "\n",
        "  Get input and cast it to int\n",
        "\n",
        "  Call the function fizzbuzz with the input number\n",
        "\n",
        "  Print the output of the function\n",
        "\n",
        "  ---\n",
        "Loop over the numbers from 1 to the number that the user entered, and each time use the function you created to calculate the FizzBuzz result and output it.\n",
        "\n",
        "---\n",
        "\n",
        "\n",
        "\n",
        "\n",
        "\n"
      ],
      "metadata": {
        "id": "4AFg5NLBfaxu"
      }
    },
    {
      "cell_type": "code",
      "source": [
        "def fizzbuzz(n):\n",
        "    if n%3==0 and n%7==0:\n",
        "        return 'FizzBuzz'\n",
        "    elif n%3==0:\n",
        "        return 'Fizz'\n",
        "    elif n%7==0:\n",
        "        return 'Buzz'\n",
        "    else:\n",
        "        return str(n)\n",
        "print('Welcome to FizzBuzz!')\n",
        "n=int(input())\n",
        "for i in range(1, n+1):\n",
        "    print(fizzbuzz(i))\n"
      ],
      "metadata": {
        "colab": {
          "base_uri": "https://localhost:8080/"
        },
        "id": "e9EkRotOekLc",
        "outputId": "2f08cf9c-610e-4802-b9e3-35946cb963d7"
      },
      "execution_count": null,
      "outputs": [
        {
          "output_type": "stream",
          "name": "stdout",
          "text": [
            "Welcome to FizzBuzz!\n",
            "7\n",
            "1\n",
            "2\n",
            "Fizz\n",
            "4\n",
            "5\n",
            "Fizz\n",
            "Buzz\n"
          ]
        }
      ]
    },
    {
      "cell_type": "markdown",
      "source": [
        "Write a program that receives a list of numbers as input (given), and prints a list of the indices of the numbers that are either below 50 or they are divisible by 5."
      ],
      "metadata": {
        "id": "OiTtUc5aerrz"
      }
    },
    {
      "cell_type": "code",
      "source": [
        "lst = list(map(int, input().split(\",\")))\n",
        "# Write your code below\n",
        "nlst=[]\n",
        "for i, v in enumerate(lst):\n",
        "    if int(v)%5==0 or int(v)<50:\n",
        "        nlst.append(i)\n",
        "print(nlst)"
      ],
      "metadata": {
        "colab": {
          "base_uri": "https://localhost:8080/"
        },
        "id": "6KFLCgtresP2",
        "outputId": "937a48c6-bd6b-470b-90ff-e25e357d9e3e"
      },
      "execution_count": null,
      "outputs": [
        {
          "output_type": "stream",
          "name": "stdout",
          "text": [
            "80,4,99,36,34\n",
            "[0, 1, 3, 4]\n"
          ]
        }
      ]
    },
    {
      "cell_type": "markdown",
      "source": [
        "Write a program that receives a list of words as input (given), and prints a list of the indices of the words that are either longer than 3 characters or start with the letter 'a' (case-sensitive).\n",
        "\n",
        "To check if a string starts with some substring use: str.startswith(\"substring\")"
      ],
      "metadata": {
        "id": "UT7TT-Vbfnbe"
      }
    },
    {
      "cell_type": "code",
      "source": [
        "lst = input().split()\n",
        "# Write your code below\n",
        "nlst=[]\n",
        "for i, v in enumerate(lst):\n",
        "    if len(v)>3 or v[0]=='a':\n",
        "        nlst.append(i)\n",
        "print(nlst)"
      ],
      "metadata": {
        "colab": {
          "base_uri": "https://localhost:8080/"
        },
        "id": "dMXq7tiefpe5",
        "outputId": "db73e60b-0746-4fe0-ad36-fd453963dead"
      },
      "execution_count": null,
      "outputs": [
        {
          "output_type": "stream",
          "name": "stdout",
          "text": [
            "cat apple dog elephant ant bird\n",
            "[1, 3, 4, 5]\n"
          ]
        }
      ]
    },
    {
      "cell_type": "markdown",
      "source": [
        "Create a program that receives a string as input, and it prints how many times the character p (or P) is in the string.\n",
        "\n",
        "Some chars might be uppercase, use char.lower() to convert it to lowercase."
      ],
      "metadata": {
        "id": "YGEGABNQgikF"
      }
    },
    {
      "cell_type": "code",
      "source": [
        "text = input()\n",
        "# Write your code below\n",
        "s=0\n",
        "for i in text:\n",
        "    if i.lower()=='p':\n",
        "        s+=1\n",
        "print(s)"
      ],
      "metadata": {
        "colab": {
          "base_uri": "https://localhost:8080/"
        },
        "id": "b_rfZ689gjr0",
        "outputId": "42d79929-cfc9-48cd-e37c-bb2ad4c34127"
      },
      "execution_count": null,
      "outputs": [
        {
          "output_type": "stream",
          "name": "stdout",
          "text": [
            "Happy people play ping pong\n",
            "7\n"
          ]
        }
      ]
    },
    {
      "cell_type": "markdown",
      "source": [
        "Create a program that receives a string as input, and it prints how many times the character s is in the string.\n",
        "\n",
        "Some chars might be uppercase, use char.lower() to convert it to lowercase."
      ],
      "metadata": {
        "id": "kifSi_AlhH3P"
      }
    },
    {
      "cell_type": "code",
      "source": [
        "text = input()\n",
        "# Write your code below\n",
        "s=0\n",
        "for i in text:\n",
        "    if i.lower()=='s':\n",
        "        s+=1\n",
        "print(s)"
      ],
      "metadata": {
        "colab": {
          "base_uri": "https://localhost:8080/"
        },
        "id": "wU0OUVDUhJJw",
        "outputId": "30b65dfe-b79b-48bd-ffc9-6a69034d1a5f"
      },
      "execution_count": null,
      "outputs": [
        {
          "output_type": "stream",
          "name": "stdout",
          "text": [
            "Mississippi\n",
            "4\n"
          ]
        }
      ]
    },
    {
      "cell_type": "markdown",
      "source": [
        "Write a program that takes two inputs: a text string and a delimiter character. The program should split the text by whitespace into words, then join these words using the specified delimited character and print the resulting string"
      ],
      "metadata": {
        "id": "p_aycRefiRm2"
      }
    },
    {
      "cell_type": "code",
      "source": [
        "text = input()\n",
        "delimiter = input()\n",
        "# Write your code below\n",
        "nt=text.split()\n",
        "ys=delimiter.join(nt)\n",
        "print(ys)"
      ],
      "metadata": {
        "colab": {
          "base_uri": "https://localhost:8080/"
        },
        "id": "kNqMXw3diQJy",
        "outputId": "534fa038-75c8-40d5-d5bd-905acf605b6a"
      },
      "execution_count": null,
      "outputs": [
        {
          "output_type": "stream",
          "name": "stdout",
          "text": [
            "adjn ifvni hjndf\n",
            "#\n",
            "adjn#ifvni#hjndf\n"
          ]
        }
      ]
    },
    {
      "cell_type": "markdown",
      "source": [
        "Create a program that takes two inputs: a string of numbers separated by spaces, and a prefix string. The program should split the number string into individual numbers, add the prefix to each number, then join these modified numbers back into a single string separated by spaces. Finally, print the resulting string."
      ],
      "metadata": {
        "id": "iqITNT25kXyz"
      }
    },
    {
      "cell_type": "code",
      "source": [
        "numbers = input()\n",
        "prefix = input()\n",
        "# Write your code below\n",
        "yn=numbers.split()\n",
        "for i in yn:\n",
        "    print(prefix+i, end=' ')"
      ],
      "metadata": {
        "colab": {
          "base_uri": "https://localhost:8080/"
        },
        "id": "vvpRXDTrkZnE",
        "outputId": "04eb5e4e-2c3c-43f5-bac5-dcfc6a7ad9e2"
      },
      "execution_count": null,
      "outputs": [
        {
          "output_type": "stream",
          "name": "stdout",
          "text": [
            "123 456 789\n",
            "+1\n",
            "+1123 +1456 +1789 "
          ]
        }
      ]
    },
    {
      "cell_type": "markdown",
      "source": [
        "Create a program that receives a list as input (given) and prints the following sliced list (depends on the list length):\n",
        "\n",
        "For odd-length lists: take the middle item and one item on each side (3 items total)\n",
        "\n",
        "For even-length lists: take the two middle items\n",
        "\n",
        "When dividing numbers:\n",
        "\n",
        "/ gives you a decimal number (5/2 = 2.5)\n",
        "\n",
        "// removes the decimal part (5//2 = 2)\n",
        "\n",
        "For this challenge, use // because list slicing only works with whole numbers."
      ],
      "metadata": {
        "id": "weB72FN0m3a0"
      }
    },
    {
      "cell_type": "code",
      "source": [
        "lst = input().split(\",\")\n",
        "# Write your code below\n",
        "n=len(lst)\n",
        "if n%2==0:\n",
        "  n//=2\n",
        "  print(lst[n-1:n+1])\n",
        "else:\n",
        "  n//=2\n",
        "  print(lst[n-1:n+2])"
      ],
      "metadata": {
        "colab": {
          "base_uri": "https://localhost:8080/"
        },
        "id": "VV9U8euCnAju",
        "outputId": "dd19c97e-1e22-4639-c0f3-6c37dd54cdfc"
      },
      "execution_count": null,
      "outputs": [
        {
          "output_type": "stream",
          "name": "stdout",
          "text": [
            "1,2,3,4,5,6,7,8,9\n",
            "['4', '5', '6']\n"
          ]
        }
      ]
    },
    {
      "cell_type": "markdown",
      "source": [
        "Create a program that takes a list and prints:\n",
        "\n",
        "For lists with 5 or more items: the first two and last two items\n",
        "\n",
        "For lists with less than 5 items: the first and last item only"
      ],
      "metadata": {
        "id": "Tf2JqKFqp4MQ"
      }
    },
    {
      "cell_type": "code",
      "source": [
        "input_list = input().split(', ')\n",
        "# Write your code below\n",
        "n=len(input_list)\n",
        "olst=[]\n",
        "if n>=5:\n",
        "    olst.append(input_list[0])\n",
        "    olst.append(input_list[1])\n",
        "    olst.append(input_list[n-2])\n",
        "    olst.append(input_list[n-1])\n",
        "else:\n",
        "    olst.append(input_list[0])\n",
        "    olst.append(input_list[n-1])\n",
        "print(olst)"
      ],
      "metadata": {
        "colab": {
          "base_uri": "https://localhost:8080/"
        },
        "id": "7j_zc2BSq7Y_",
        "outputId": "2a813dda-a854-4a38-b2ed-18c002affb6a"
      },
      "execution_count": null,
      "outputs": [
        {
          "output_type": "stream",
          "name": "stdout",
          "text": [
            "10, 20, 30, 40\n",
            "['10', '40']\n"
          ]
        }
      ]
    },
    {
      "cell_type": "markdown",
      "source": [
        "Create a program that receives a list as input (given) and prints three new lists based on the following slicing operations:\n",
        "\n",
        "A list containing every third element, starting from index 1 (the second element)\n",
        "\n",
        "A list containing all the elements from the 6th element to the 1st in reverse order\n",
        "\n",
        "A list containing every second element starting from the middle of the list to the end\n"
      ],
      "metadata": {
        "id": "k3oaCIOwtZoQ"
      }
    },
    {
      "cell_type": "code",
      "source": [
        "lst = input().split(\",\")\n",
        "# Write your code below\n",
        "l1=[]\n",
        "l2=[]\n",
        "l3=[]\n",
        "for i in lst[1::3]:\n",
        "    l1.append(i)\n",
        "for j in lst[5::-1]:\n",
        "    l2.append(j)\n",
        "for z in lst[len(lst)//2::2]:\n",
        "    l3.append(z)\n",
        "print(l1)\n",
        "print(l2)\n",
        "print(l3)"
      ],
      "metadata": {
        "colab": {
          "base_uri": "https://localhost:8080/"
        },
        "id": "0aR1MCkYtdwT",
        "outputId": "4c519c3b-f50a-44ca-a785-529e86e4542e"
      },
      "execution_count": null,
      "outputs": [
        {
          "output_type": "stream",
          "name": "stdout",
          "text": [
            "red,orange,yellow,green,blue,purple,pink,brown,black,white,gray,violet,indigo,maroon,navy\n",
            "['orange', 'blue', 'brown', 'gray', 'maroon']\n",
            "['purple', 'blue', 'green', 'yellow', 'orange', 'red']\n",
            "['brown', 'white', 'violet', 'maroon']\n"
          ]
        }
      ]
    },
    {
      "cell_type": "markdown",
      "source": [
        "Create a program that receives a list as input and prints four new lists based on the following slicing operations:\n",
        "\n",
        "A list containing every fourth element, starting from index 2\n",
        "\n",
        "A list containing all elements from the 3rd element to the 3rd to last element\n",
        "\n",
        "A list containing every element in reverse order, skipping every other element\n",
        "\n",
        "A list containing the first three and last three elements of the original list\n",
        "\n",
        "Name the lists list1, list2, list3 and list4 - accordingly."
      ],
      "metadata": {
        "id": "EpZR7YYKv2u0"
      }
    },
    {
      "cell_type": "code",
      "source": [
        "original_list = input().split(',')\n",
        "# Write your code below\n",
        "list1=[]\n",
        "list2=[]\n",
        "list3=[]\n",
        "list4=[]\n",
        "for i in original_list[2::4]:\n",
        "    list1.append(i)\n",
        "for j in original_list[2:-3:]:\n",
        "    list2.append(j)\n",
        "for z in original_list[::-2]:\n",
        "    list3.append(z)\n",
        "for y in original_list[0:3:1] + original_list[-3::1]:\n",
        "    list4.append(y)\n",
        "# Don't change below this line\n",
        "print(\"List 1:\", list1)\n",
        "print(\"List 2:\", list2)\n",
        "print(\"List 3:\", list3)\n",
        "print(\"List 4:\", list4)"
      ],
      "metadata": {
        "colab": {
          "base_uri": "https://localhost:8080/"
        },
        "id": "ued0I8Lyv-Hj",
        "outputId": "629d71f3-a1ca-44d4-88f9-25dc8477f870"
      },
      "execution_count": null,
      "outputs": [
        {
          "output_type": "stream",
          "name": "stdout",
          "text": [
            "1,2,3,4,5,6,7,8,9,10,11,12,13,14,15\n",
            "List 1: ['3', '7', '11', '15']\n",
            "List 2: ['3', '4', '5', '6', '7', '8', '9', '10', '11', '12']\n",
            "List 3: ['15', '13', '11', '9', '7', '5', '3', '1']\n",
            "List 4: ['1', '2', '3', '13', '14', '15']\n"
          ]
        }
      ]
    },
    {
      "cell_type": "markdown",
      "source": [
        "Create a program that receives two lists and prints a new list of all elements that are in the first list but NOT in the second list."
      ],
      "metadata": {
        "id": "Fpw_zkMAuG2S"
      }
    },
    {
      "cell_type": "code",
      "source": [
        "lst1 = input().split(\",\")\n",
        "lst2 = input().split(\",\")\n",
        "# Write your code below\n",
        "nlst=[]\n",
        "for i in range(len(lst1)):\n",
        "    if lst1[i] not in lst2:\n",
        "        nlst.append(lst1[i])\n",
        "print(nlst)"
      ],
      "metadata": {
        "colab": {
          "base_uri": "https://localhost:8080/"
        },
        "id": "Y9BeaD6ouH43",
        "outputId": "ef625b5b-48f4-419c-a10b-aff1bbe26545"
      },
      "execution_count": null,
      "outputs": [
        {
          "output_type": "stream",
          "name": "stdout",
          "text": [
            "1,2,3,4,5\n",
            "2,4,6\n",
            "['1', '3', '5']\n"
          ]
        }
      ]
    },
    {
      "cell_type": "markdown",
      "source": [
        "You will build a simple program to manage daily expenses.\n",
        "\n",
        "The user can add, view, and clear expenses, as well as calculate the total and average.\n",
        "\n",
        "This project reinforces basic programming concepts like lists, loops, and functions in a practical, real-life scenario."
      ],
      "metadata": {
        "id": "csZv66govxAh"
      }
    },
    {
      "cell_type": "code",
      "source": [
        "print(\"Welcome to the Daily Expense Tracker!\")\n",
        "print()\n",
        "print(\"Menu:\")\n",
        "print(\"1. Add a new expense\")\n",
        "print(\"2. View all expenses\")\n",
        "print(\"3. Calculate total and average expense\")\n",
        "print(\"4. Clear all expenses\")\n",
        "print(\"5. Exit\")"
      ],
      "metadata": {
        "colab": {
          "base_uri": "https://localhost:8080/"
        },
        "id": "SRXszII5vxrH",
        "outputId": "d4b649bc-0837-43d6-8be8-e0b3a80ac16a"
      },
      "execution_count": null,
      "outputs": [
        {
          "output_type": "stream",
          "name": "stdout",
          "text": [
            "Welcome to the Daily Expense Tracker!\n",
            "\n",
            "Menu:\n",
            "1. Add a new expense\n",
            "2. View all expenses\n",
            "3. Calculate total and average expense\n",
            "4. Clear all expenses\n",
            "5. Exit\n"
          ]
        }
      ]
    },
    {
      "cell_type": "markdown",
      "source": [
        "Now let's create the actual program!\n",
        "\n",
        "Create an infinite while loop (refer the hint if not sure how to do so)\n",
        "\n",
        "In each iteration of the loop, get input from the user, this will be the choice (1 - 5 from the menu)\n",
        "\n",
        "Handle the first case, if the choice is equal to 5, exit the program (loop) and output:"
      ],
      "metadata": {
        "id": "-kq3F4POwpwO"
      }
    },
    {
      "cell_type": "code",
      "source": [
        "print(\"Welcome to the Daily Expense Tracker!\")\n",
        "print()\n",
        "print(\"Menu:\")\n",
        "print(\"1. Add a new expense\")\n",
        "print(\"2. View all expenses\")\n",
        "print(\"3. Calculate total and average expense\")\n",
        "print(\"4. Clear all expenses\")\n",
        "print(\"5. Exit\")\n",
        "\n",
        "while True:\n",
        "    n=int(input())\n",
        "    if n==5:\n",
        "        print(\"Exiting the Daily Expense Tracker. Goodbye!\")\n",
        "        break;\n"
      ],
      "metadata": {
        "id": "dSHabx0vwqOS"
      },
      "execution_count": null,
      "outputs": []
    },
    {
      "cell_type": "markdown",
      "source": [
        "Handle the option where the user adds an expense (1).\n",
        "\n",
        "Initialize in the start of the program an empty expenses list\n",
        "When the user selects 1 as a choice, get another input from the user, a float, and add its value to the expenses list.\n",
        "After adding, output:"
      ],
      "metadata": {
        "id": "kZfiMju7wxr_"
      }
    },
    {
      "cell_type": "code",
      "source": [
        "print(\"Welcome to the Daily Expense Tracker!\")\n",
        "print()\n",
        "print(\"Menu:\")\n",
        "print(\"1. Add a new expense\")\n",
        "print(\"2. View all expenses\")\n",
        "print(\"3. Calculate total and average expense\")\n",
        "print(\"4. Clear all expenses\")\n",
        "print(\"5. Exit\")\n",
        "\n",
        "while True:\n",
        "    n=int(input())\n",
        "    if n==1:\n",
        "        m=float(input())\n",
        "        print(\"Expense added successfully!\")\n",
        "    elif n==5:\n",
        "        print(\"Exiting the Daily Expense Tracker. Goodbye!\")\n",
        "        break;\n"
      ],
      "metadata": {
        "colab": {
          "base_uri": "https://localhost:8080/"
        },
        "id": "9q-zEuJkwx6b",
        "outputId": "c490ea51-4e9b-487e-de5a-f9649c513fb4"
      },
      "execution_count": null,
      "outputs": [
        {
          "output_type": "stream",
          "name": "stdout",
          "text": [
            "Welcome to the Daily Expense Tracker!\n",
            "\n",
            "Menu:\n",
            "1. Add a new expense\n",
            "2. View all expenses\n",
            "3. Calculate total and average expense\n",
            "4. Clear all expenses\n",
            "5. Exit\n",
            "1\n",
            "3.2\n",
            "Expense added successfully!\n",
            "1\n",
            "3.1\n",
            "Expense added successfully!\n",
            "5\n",
            "Exiting the Daily Expense Tracker. Goodbye!\n"
          ]
        }
      ]
    },
    {
      "cell_type": "markdown",
      "source": [],
      "metadata": {
        "id": "2iqAGRljg9Gv"
      }
    },
    {
      "cell_type": "code",
      "source": [
        "print(\"Welcome to the Daily Expense Tracker!\")\n",
        "print()\n",
        "print(\"Menu:\")\n",
        "print(\"1. Add a new expense\")\n",
        "print(\"2. View all expenses\")\n",
        "print(\"3. Calculate total and average expense\")\n",
        "print(\"4. Clear all expenses\")\n",
        "print(\"5. Exit\")\n",
        "nm=[]\n",
        "while True:\n",
        "    n=int(input())\n",
        "    if n==1:\n",
        "        m=float(input())\n",
        "        print(\"Expense added successfully!\")\n",
        "        nm.append(m)\n",
        "    elif n==2:\n",
        "        if len(nm)==0:\n",
        "            print(\"No expenses recorded yet.\")\n",
        "        else:\n",
        "            print(\"Your expenses:\")\n",
        "            for i in range(0, len(nm)):\n",
        "                print(f\"{i+1}. {nm[i]}\")\n",
        "    elif n==5:\n",
        "        print(\"Exiting the Daily Expense Tracker. Goodbye!\")\n",
        "        break;\n"
      ],
      "metadata": {
        "colab": {
          "base_uri": "https://localhost:8080/"
        },
        "id": "lWy0wh5eg9XW",
        "outputId": "6a2fe1e5-a622-47c6-b0eb-0b64b641ee1c"
      },
      "execution_count": null,
      "outputs": [
        {
          "output_type": "stream",
          "name": "stdout",
          "text": [
            "Welcome to the Daily Expense Tracker!\n",
            "\n",
            "Menu:\n",
            "1. Add a new expense\n",
            "2. View all expenses\n",
            "3. Calculate total and average expense\n",
            "4. Clear all expenses\n",
            "5. Exit\n",
            "2\n",
            "No expenses recorded yet.\n",
            "5\n",
            "Exiting the Daily Expense Tracker. Goodbye!\n"
          ]
        }
      ]
    },
    {
      "cell_type": "markdown",
      "source": [
        "andle the option to calculate the total and average expense (3).\n",
        "\n",
        "If the expenses list is empty, output:\n",
        "\n",
        "No expenses recorded yet.\n",
        "Otherwise, output the list in the following format:\n",
        "\n",
        "Total expense: 600.0\n",
        "\n",
        "Average expense: 200.0\n",
        "\n",
        "Assuming the expenses entered before were 300, 200 and 100. (In that order!)"
      ],
      "metadata": {
        "id": "eRl0DJEnj9iR"
      }
    },
    {
      "cell_type": "code",
      "source": [
        "print(\"Welcome to the Daily Expense Tracker!\")\n",
        "print()\n",
        "print(\"Menu:\")\n",
        "print(\"1. Add a new expense\")\n",
        "print(\"2. View all expenses\")\n",
        "print(\"3. Calculate total and average expense\")\n",
        "print(\"4. Clear all expenses\")\n",
        "print(\"5. Exit\")\n",
        "nm=[]\n",
        "total=0\n",
        "while True:\n",
        "    n=int(input())\n",
        "    if n==1:\n",
        "        m=float(input())\n",
        "        print(\"Expense added successfully!\")\n",
        "        nm.append(m)\n",
        "    elif n==2:\n",
        "        if len(nm)==0:\n",
        "            print(\"No expenses recorded yet.\")\n",
        "        else:\n",
        "            print(\"Your expenses:\")\n",
        "            for i in range(0, len(nm)):\n",
        "                print(f\"{i+1}. {nm[i]}\")\n",
        "    elif n==3:\n",
        "        if len(nm)==0:\n",
        "            print(\"No expenses recorded yet.\")\n",
        "        else:\n",
        "            for i in range(0, len(nm)):\n",
        "                total+=nm[i]\n",
        "                average=total/len(nm)\n",
        "            print(f\"Total expense: {total}, \\n Average expense: {average}\")\n",
        "    elif n==5:\n",
        "        print(\"Exiting the Daily Expense Tracker. Goodbye!\")\n",
        "        break;"
      ],
      "metadata": {
        "colab": {
          "base_uri": "https://localhost:8080/"
        },
        "id": "bDMADLeDj9Op",
        "outputId": "fb132411-82ca-49a8-9692-f9787f296147"
      },
      "execution_count": null,
      "outputs": [
        {
          "output_type": "stream",
          "name": "stdout",
          "text": [
            "Welcome to the Daily Expense Tracker!\n",
            "\n",
            "Menu:\n",
            "1. Add a new expense\n",
            "2. View all expenses\n",
            "3. Calculate total and average expense\n",
            "4. Clear all expenses\n",
            "5. Exit\n",
            "3\n",
            "No expenses recorded yet.\n",
            "5\n",
            "Exiting the Daily Expense Tracker. Goodbye!\n"
          ]
        }
      ]
    },
    {
      "cell_type": "markdown",
      "source": [
        "Handle the option to clear all expenses (4).\n",
        "\n",
        "After you clear the expenses list, output:\n",
        "\n",
        "All expenses cleared."
      ],
      "metadata": {
        "id": "lIIlVloMldKj"
      }
    },
    {
      "cell_type": "code",
      "source": [
        "print(\"Welcome to the Daily Expense Tracker!\")\n",
        "print()\n",
        "print(\"Menu:\")\n",
        "print(\"1. Add a new expense\")\n",
        "print(\"2. View all expenses\")\n",
        "print(\"3. Calculate total and average expense\")\n",
        "print(\"4. Clear all expenses\")\n",
        "print(\"5. Exit\")\n",
        "nm=[]\n",
        "total=0\n",
        "while True:\n",
        "    n=int(input())\n",
        "    if n==1:\n",
        "        m=float(input())\n",
        "        print(\"Expense added successfully!\")\n",
        "        nm.append(m)\n",
        "    elif n==2:\n",
        "        if len(nm)==0:\n",
        "            print(\"No expenses recorded yet.\")\n",
        "        else:\n",
        "            print(\"Your expenses:\")\n",
        "            for i in range(0, len(nm)):\n",
        "                print(f\"{i+1}. {nm[i]}\")\n",
        "    elif n==3:\n",
        "        if len(nm)==0:\n",
        "            print(\"No expenses recorded yet.\")\n",
        "        else:\n",
        "            for i in range(0, len(nm)):\n",
        "                total+=nm[i]\n",
        "                average=total/len(nm)\n",
        "            print(f\"Total expense: {total}\\nAverage expense: {average}\")\n",
        "    elif n==4:\n",
        "        nm.clear()\n",
        "        print(\"All expenses cleared.\")\n",
        "    elif n==5:\n",
        "        print(\"Exiting the Daily Expense Tracker. Goodbye!\")\n",
        "        break;"
      ],
      "metadata": {
        "colab": {
          "base_uri": "https://localhost:8080/"
        },
        "id": "y1VVH2wHleDT",
        "outputId": "cc0dab14-bf37-4af7-89c4-1a64af3dff9a"
      },
      "execution_count": null,
      "outputs": [
        {
          "output_type": "stream",
          "name": "stdout",
          "text": [
            "Welcome to the Daily Expense Tracker!\n",
            "\n",
            "Menu:\n",
            "1. Add a new expense\n",
            "2. View all expenses\n",
            "3. Calculate total and average expense\n",
            "4. Clear all expenses\n",
            "5. Exit\n",
            "1\n",
            "124\n",
            "Expense added successfully!\n",
            "4\n",
            "All expenses cleared.\n",
            "2\n",
            "No expenses recorded yet.\n",
            "3\n",
            "No expenses recorded yet.\n",
            "5\n",
            "Exiting the Daily Expense Tracker. Goodbye!\n"
          ]
        }
      ]
    },
    {
      "cell_type": "markdown",
      "source": [
        "Lastly, handle the option where the choice of the user is not in the range 1 to 5. Output:\n",
        "\n",
        "Invalid choice. Please try again."
      ],
      "metadata": {
        "id": "BYLH3fPuoDv_"
      }
    },
    {
      "cell_type": "code",
      "source": [
        "print(\"Welcome to the Daily Expense Tracker!\")\n",
        "print()\n",
        "print(\"Menu:\")\n",
        "print(\"1. Add a new expense\")\n",
        "print(\"2. View all expenses\")\n",
        "print(\"3. Calculate total and average expense\")\n",
        "print(\"4. Clear all expenses\")\n",
        "print(\"5. Exit\")\n",
        "nm=[]\n",
        "total=0\n",
        "while True:\n",
        "    n=int(input())\n",
        "    if n==1:\n",
        "        m=float(input())\n",
        "        print(\"Expense added successfully!\")\n",
        "        nm.append(m)\n",
        "    elif n==2:\n",
        "        if len(nm)==0:\n",
        "            print(\"No expenses recorded yet.\")\n",
        "        else:\n",
        "            print(\"Your expenses:\")\n",
        "            for i in range(0, len(nm)):\n",
        "                print(f\"{i+1}. {nm[i]}\")\n",
        "    elif n==3:\n",
        "        if len(nm)==0:\n",
        "            print(\"No expenses recorded yet.\")\n",
        "        else:\n",
        "            for i in range(0, len(nm)):\n",
        "                total+=nm[i]\n",
        "                average=total/len(nm)\n",
        "            print(f\"Total expense: {total}\\nAverage expense: {average}\")\n",
        "    elif n==4:\n",
        "        nm.clear()\n",
        "        print(\"All expenses cleared.\")\n",
        "    elif n==5:\n",
        "        print(\"Exiting the Daily Expense Tracker. Goodbye!\")\n",
        "        break;\n",
        "    else:\n",
        "        print(\"Invalid choice. Please try again.\")"
      ],
      "metadata": {
        "colab": {
          "base_uri": "https://localhost:8080/"
        },
        "id": "ank8sVKZlqTS",
        "outputId": "d29e275f-c2a2-45e3-d33a-a022cfb50236"
      },
      "execution_count": null,
      "outputs": [
        {
          "output_type": "stream",
          "name": "stdout",
          "text": [
            "Welcome to the Daily Expense Tracker!\n",
            "\n",
            "Menu:\n",
            "1. Add a new expense\n",
            "2. View all expenses\n",
            "3. Calculate total and average expense\n",
            "4. Clear all expenses\n",
            "5. Exit\n",
            "1\n",
            "13\n",
            "Expense added successfully!\n",
            "0\n",
            "Invalid choice. Please try again.\n",
            "5\n",
            "Exiting the Daily Expense Tracker. Goodbye!\n"
          ]
        }
      ]
    },
    {
      "cell_type": "markdown",
      "source": [
        "Each test case has one input - an odd whole number (always odd, given).\n",
        "\n",
        "Your task is to print n - pyramid using *\n",
        "\n"
      ],
      "metadata": {
        "id": "IX86vgECpdsx"
      }
    },
    {
      "cell_type": "code",
      "source": [
        "n = int(input())\n",
        "for i in range(1, n+1):\n",
        "    if i%2!=0:\n",
        "        print(\"*\"*i)"
      ],
      "metadata": {
        "colab": {
          "base_uri": "https://localhost:8080/"
        },
        "id": "yxIXzDyupoSc",
        "outputId": "abd68164-7603-4afc-e3e0-e503ca655bfe"
      },
      "execution_count": null,
      "outputs": [
        {
          "output_type": "stream",
          "name": "stdout",
          "text": [
            "11\n",
            "*\n",
            "***\n",
            "*****\n",
            "*******\n",
            "*********\n",
            "***********\n"
          ]
        }
      ]
    },
    {
      "cell_type": "markdown",
      "source": [
        "Output N first rows of Pascal's triangle by the given number N of rows. Use standard input stream and standard output stream for data input and output, respectively. Check the correctness of the input data.\n",
        "\n",
        "Input: Integer, number of rows.\n",
        "\n",
        "Output: Integer numbers, Pascal's triangle."
      ],
      "metadata": {
        "id": "UJ7z_wdZsfqd"
      }
    },
    {
      "cell_type": "code",
      "source": [
        "import math\n",
        "n = int(input())\n",
        "for i in range(1, n+1):\n",
        "        print(math.factorial(n)/(math.factorial(i)*math.factorial(n-i)))"
      ],
      "metadata": {
        "colab": {
          "base_uri": "https://localhost:8080/"
        },
        "id": "zX-EfqgNtCm3",
        "outputId": "1081692a-70ab-4fab-b0db-ddf871a58ff2"
      },
      "execution_count": null,
      "outputs": [
        {
          "output_type": "stream",
          "name": "stdout",
          "text": [
            "3\n",
            "3.0\n",
            "3.0\n",
            "1.0\n"
          ]
        }
      ]
    },
    {
      "cell_type": "markdown",
      "source": [
        " Create a function that takes two parameters of string type which are fractions with the same denominator and returns a sum expression of these fractions and the sum result.\n",
        "\n",
        ">Epam pyhon practice"
      ],
      "metadata": {
        "id": "L0NYuMFaTM_l"
      }
    },
    {
      "cell_type": "code",
      "source": [
        "def get_fractions(a_b: str, c_b: str) -> str:\n",
        "    a=a_b.split('/')\n",
        "    c=c_b.split('/')\n",
        "    m=int(a[0])+int(c[0])\n",
        "    n=str(m)+\"/\"+a[1]\n",
        "    return a_b+\" \"+\"+\"+\" \"+c_b+\" \"+\"=\"+\" \"+n"
      ],
      "metadata": {
        "colab": {
          "base_uri": "https://localhost:8080/",
          "height": 70
        },
        "id": "4c__9J4nTMhF",
        "outputId": "70f776dc-9a6d-4c76-a75d-2d8f65acfe08"
      },
      "execution_count": null,
      "outputs": [
        {
          "name": "stdout",
          "output_type": "stream",
          "text": [
            "1/3\n",
            "5/3\n"
          ]
        },
        {
          "output_type": "execute_result",
          "data": {
            "text/plain": [
              "'1/3 + 5/3 = 6/3'"
            ],
            "application/vnd.google.colaboratory.intrinsic+json": {
              "type": "string"
            }
          },
          "metadata": {},
          "execution_count": 12
        }
      ]
    },
    {
      "cell_type": "markdown",
      "source": [
        "Implement a function get_longest_word(s: str) -> str which returns the longest word in the given string. The word can contain any symbols except whitespaces (' ', '\\n', '\\t' and so on). If there are multiple longest words in the string with the same length return the word that occurs first.\n",
        ">Epam python practise"
      ],
      "metadata": {
        "id": "x48ba-H9zd91"
      }
    },
    {
      "cell_type": "code",
      "source": [
        "def get_longest_word( s: str) -> str:\n",
        "    ls=s.split('')\n",
        "    max_l=0\n",
        "    lw=\"\"\n",
        "    for i in ls:\n",
        "        if len(i)>max_l:\n",
        "            max_l=len(i)\n",
        "            lw=i\n",
        "    return lw"
      ],
      "metadata": {
        "colab": {
          "base_uri": "https://localhost:8080/"
        },
        "id": "C0UHhnW1zdhG",
        "outputId": "93d5877b-d90c-4432-ced2-0590e47ae226"
      },
      "execution_count": null,
      "outputs": [
        {
          "output_type": "stream",
          "name": "stdout",
          "text": [
            "Python is simple and effective!\n",
            "effective!\n"
          ]
        }
      ]
    }
  ]
}